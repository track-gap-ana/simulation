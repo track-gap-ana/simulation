{
 "cells": [
  {
   "cell_type": "code",
   "execution_count": 17,
   "id": "bc3f9d08-c130-43e4-8ebc-9ace37a860c0",
   "metadata": {},
   "outputs": [],
   "source": [
    "\n",
    "import argparse\n",
    "import icecube\n",
    "import icecube.icetray\n",
    "import icecube.dataclasses\n",
    "from icecube.icetray import I3Tray\n",
    "from icecube import dataio, icetray\n",
    "import glob\n"
   ]
  },
  {
   "cell_type": "code",
   "execution_count": 28,
   "id": "a84f10ad-e135-4183-bc94-d59ee04bfa08",
   "metadata": {},
   "outputs": [
    {
     "name": "stdout",
     "output_type": "stream",
     "text": [
      "Histogram of LLP interactions for file LLPSimulation.DarkLeptonicScalar.mass-115.eps-2e-05.bias-300000000.0.nevents-100.i3.gz\n",
      "How many LLP productions?\n",
      "0.0 28 : 28.0 %\n",
      "1.0 25 : 25.0 %\n",
      "2.0 15 : 15.0 %\n",
      "3.0 12 : 12.0 %\n",
      "4.0 7 : 7.0 %\n",
      "5.0 7 : 7.0 %\n",
      "6.0 2 : 2.0 %\n",
      "7.0 3 : 3.0 %\n",
      "8.0 1 : 1.0 %\n",
      "Histogram of LLP interactions for file LLPSimulation.DarkLeptonicScalar.mass-115.eps-2e-05.bias-3000000.0.nevents-300.i3.gz\n",
      "How many LLP productions?\n",
      "0.0 296 : 98.66666666666667 %\n",
      "1.0 4 : 1.3333333333333333 %\n",
      "Histogram of LLP interactions for file LLPSimulation.DarkLeptonicScalar.mass-115.eps-2e-05.bias-30000000.0.nevents-100.i3.gz\n",
      "How many LLP productions?\n",
      "0.0 88 : 88.0 %\n",
      "1.0 10 : 10.0 %\n",
      "3.0 2 : 2.0 %\n",
      "Histogram of LLP interactions for file LLPSimulation.DarkLeptonicScalar.mass-115.eps-4e-05.bias-1250000.0.nevents-500.i3.gz\n",
      "How many LLP productions?\n",
      "0.0 479 : 95.8 %\n",
      "1.0 21 : 4.2 %\n",
      "Histogram of LLP interactions for file LLPSimulation.DarkLeptonicScalar.mass-110.eps-2e-05.bias-30000000.0.nevents-300.i3.gz\n",
      "How many LLP productions?\n",
      "0.0 206 : 68.66666666666667 %\n",
      "1.0 65 : 21.666666666666668 %\n",
      "2.0 24 : 8.0 %\n",
      "3.0 5 : 1.6666666666666667 %\n",
      "Histogram of LLP interactions for file LLPSimulation.DarkLeptonicScalar.mass-110.eps-2e-05.bias-5000000.0.nevents-300.i3.gz\n",
      "How many LLP productions?\n",
      "0.0 286 : 95.33333333333333 %\n",
      "1.0 14 : 4.666666666666667 %\n",
      "Histogram of LLP interactions for file LLPSimulation.DarkLeptonicScalar.mass-110.eps-4e-05.bias-1250000.0.nevents-300.i3.gz\n",
      "How many LLP productions?\n",
      "0.0 284 : 94.66666666666667 %\n",
      "1.0 15 : 5.0 %\n",
      "2.0 1 : 0.3333333333333333 %\n"
     ]
    },
    {
     "name": "stderr",
     "output_type": "stream",
     "text": [
      "NOTICE (I3Tray): I3Tray finishing... (I3Tray.cxx:526 in void I3Tray::Execute(bool, unsigned int))\n",
      "NOTICE (I3Tray): I3Tray finishing... (I3Tray.cxx:526 in void I3Tray::Execute(bool, unsigned int))\n",
      "NOTICE (I3Tray): I3Tray finishing... (I3Tray.cxx:526 in void I3Tray::Execute(bool, unsigned int))\n",
      "NOTICE (I3Tray): I3Tray finishing... (I3Tray.cxx:526 in void I3Tray::Execute(bool, unsigned int))\n",
      "NOTICE (I3Tray): I3Tray finishing... (I3Tray.cxx:526 in void I3Tray::Execute(bool, unsigned int))\n",
      "NOTICE (I3Tray): I3Tray finishing... (I3Tray.cxx:526 in void I3Tray::Execute(bool, unsigned int))\n",
      "NOTICE (I3Tray): I3Tray finishing... (I3Tray.cxx:526 in void I3Tray::Execute(bool, unsigned int))\n"
     ]
    }
   ],
   "source": [
    "# def add_args(parser):\n",
    "#     \"\"\"\n",
    "#     Args:\n",
    "#         parser (argparse.ArgumentParser): the command-line parser\n",
    "#     \"\"\"\n",
    "    \n",
    "#     parser.add_argument(\"--inputfile\", dest=\"inputfile\",\n",
    "#                         default=\"\", type=str,\n",
    "#                         help=\"File with LLPs\")\n",
    "     \n",
    "# # Get Params\n",
    "# parser = argparse.ArgumentParser(description=\"count LLPs\")\n",
    "# add_args(parser)\n",
    "# params = vars(parser.parse_args())  # dict()\n",
    "\n",
    "# filenamelist = [params[\"inputfile\"]]\n",
    "filenamelist = []\n",
    "#filenamelist.append(\"/data/user/axelpo/output-novenv-without-photons/LLPSimulation.DarkLeptonicScalar.mass-115.eps-2e-05.bias-3000000000.0.nevents-1000.i3.gz\")\n",
    "#filenamelist.append(\"/data/user/axelpo/output-novenv-for-counting/LLPSimulation.DarkLeptonicScalar.mass-115.eps-2e-05.bias-300000000.0.nevents-100.i3.gz\")\n",
    "#filenamelist.append(\"/data/user/axelpo/output-novenv-for-counting/LLPSimulation.DarkLeptonicScalar.mass-115.eps-2e-05.bias-30000000.0.nevents-100.i3.gz\")\n",
    "filenamelist = glob.glob(\"/data/user/axelpo/output-novenv-for-counting/*.gz\")\n",
    "\n",
    "counts_list = []\n",
    "for file in filenamelist:\n",
    "\n",
    "    LLP_count = {}\n",
    "\n",
    "    def count_LLP(frame):\n",
    "        count = frame[\"LLPInfo\"][\"interactions\"]\n",
    "        if count in LLP_count:\n",
    "            LLP_count[count] += 1\n",
    "        else:\n",
    "            LLP_count[count] = 1\n",
    "        return True\n",
    "\n",
    "    tray = I3Tray()\n",
    "    \n",
    "    tray.Add(\"I3Reader\", filenamelist=[file])\n",
    "    tray.Add(count_LLP, streams=[icetray.I3Frame.DAQ])\n",
    "    \n",
    "    tray.Execute()\n",
    "\n",
    "    nevents = sum([val for key, val in LLP_count.items()])\n",
    "    print(\"Histogram of LLP interactions for file\", file.split(\"/\")[-1])\n",
    "    print(\"How many LLP productions?\")\n",
    "    LLP_count_sorted = {k: LLP_count[k] for k in sorted(LLP_count.keys())}\n",
    "    for key, val in LLP_count_sorted.items():\n",
    "        print(key, val, \": {} %\".format(100*val/nevents))\n"
   ]
  },
  {
   "cell_type": "code",
   "execution_count": null,
   "id": "e1d09c33-3114-4c07-9d38-265dcf3d3e46",
   "metadata": {},
   "outputs": [],
   "source": []
  }
 ],
 "metadata": {
  "kernelspec": {
   "display_name": "py3-v4.3.0: icetray/v1.9.2",
   "language": "shell",
   "name": "py3-v4.3.0_v1.9.2"
  },
  "language_info": {
   "codemirror_mode": {
    "name": "ipython",
    "version": 3
   },
   "file_extension": ".py",
   "mimetype": "text/x-python",
   "name": "python",
   "nbconvert_exporter": "python",
   "pygments_lexer": "ipython3",
   "version": "3.11.3"
  }
 },
 "nbformat": 4,
 "nbformat_minor": 5
}
